{
  "nbformat": 4,
  "nbformat_minor": 0,
  "metadata": {
    "colab": {
      "provenance": [],
      "authorship_tag": "ABX9TyOUGASGFbXSL+tTR1aRCDob",
      "include_colab_link": true
    },
    "kernelspec": {
      "name": "python3",
      "display_name": "Python 3"
    },
    "language_info": {
      "name": "python"
    }
  },
  "cells": [
    {
      "cell_type": "markdown",
      "metadata": {
        "id": "view-in-github",
        "colab_type": "text"
      },
      "source": [
        "<a href=\"https://colab.research.google.com/github/fid0did0/WebScraper/blob/main/borse_web_scraper.ipynb\" target=\"_parent\"><img src=\"https://colab.research.google.com/assets/colab-badge.svg\" alt=\"Open In Colab\"/></a>"
      ]
    },
    {
      "cell_type": "code",
      "source": [
        "!apt-get update > /dev/null\n",
        "!apt-get install -y chromium-chromedriver > /dev/null\n",
        "!pip install selenium > /dev/null"
      ],
      "metadata": {
        "id": "mi9Y6HpCNn6D"
      },
      "execution_count": 1,
      "outputs": []
    },
    {
      "cell_type": "markdown",
      "source": [],
      "metadata": {
        "id": "llI7TxJZwva5"
      }
    },
    {
      "cell_type": "code",
      "source": [
        "import sys\n",
        "from selenium import webdriver\n",
        "from selenium.webdriver.chrome.options import Options\n",
        "from selenium.webdriver.common.keys import Keys\n",
        "from selenium.webdriver.common.by import By\n",
        "from selenium.webdriver.support.relative_locator import locate_with\n",
        "from selenium.common.exceptions import NoSuchElementException\n",
        "from selenium.webdriver.support.wait import WebDriverWait\n",
        "from selenium.webdriver.support import expected_conditions as EC\n",
        "import datetime\n",
        "import re\n",
        "\n",
        "options = Options()\n",
        "#options.add_argument(\"--disable-dev-shm-usage\")\n",
        "options.add_argument(\"--no-sandbox\")\n",
        "options.add_argument('--headless')\n",
        "\n",
        "# Launch Chrome browser\n",
        "driver = webdriver.Chrome(options=options)\n"
      ],
      "metadata": {
        "id": "t4XVa72Xlw2D"
      },
      "execution_count": 2,
      "outputs": []
    },
    {
      "cell_type": "code",
      "source": [
        "def got_next_pg(driver):\n",
        "  next_pg_button_xpath=\"/html/body/app-root/app-wrapper/div/div[2]/app-global-search-result-overview/div/app-page-bar[1]/div/div/button[6]\"\n",
        "  element_to_chck = driver.find_element(By.XPATH, next_pg_button_xpath)\n",
        "  str_to_chck = element_to_chck.get_attribute(\"title\")\n",
        "  if str_to_chck==\"Zeige Seite 2\":\n",
        "    return False\n",
        "  else:\n",
        "    return True"
      ],
      "metadata": {
        "id": "xNRShqBNAkth"
      },
      "execution_count": 3,
      "outputs": []
    },
    {
      "cell_type": "code",
      "source": [
        "\n",
        "driver.get(\"https://www.boerse-frankfurt.de/suchergebnisse/Frankreich\")\n",
        "\n",
        "anleihen_button_xpath=\"/html/body/app-root/app-wrapper/div/div[2]/app-global-search-result-overview/div/app-data-menue/div/div/div/drag-scroll/div/div/button[1]\"\n",
        "next_pg_button_xpath=\"/html/body/app-root/app-wrapper/div/div[2]/app-global-search-result-overview/div/app-page-bar[1]/div/div/button[6]\"\n",
        "\n",
        "WebDriverWait(driver, 10).until(EC.visibility_of_element_located((By.XPATH, anleihen_button_xpath)))\n",
        "\n",
        "anleihen_button = driver.find_element(By.XPATH, anleihen_button_xpath)\n",
        "stich_button = driver.find_element(By.XPATH, '/html/body/app-root/app-wrapper/div/div[2]/app-global-search-result-overview/div/app-data-menue/div/div/div/drag-scroll/div/div/button[2]')\n",
        "\n",
        "anleihen_button.click()\n",
        "WebDriverWait(driver, 10).until(EC.visibility_of_element_located((By.XPATH, next_pg_button_xpath)))\n",
        "\n",
        "entry_link_list = []\n",
        "for page_idx in range(3):\n",
        "  #print(\"start processing page %d\" % page_idx)\n",
        "  next_pg_button=driver.find_element(By.XPATH, next_pg_button_xpath)\n",
        "  entry_na = False\n",
        "  k=0\n",
        "  while not entry_na:\n",
        "    k=k+1\n",
        "    entry_xpath='/html/body/app-root/app-wrapper/div/div[2]/app-global-search-result-overview/div/div[2]/table/tbody/tr[%d]/td[1]/a' % (k)\n",
        "    try:\n",
        "      entry = driver.find_element(By.XPATH, entry_xpath)\n",
        "    except NoSuchElementException:\n",
        "      entry_na = True\n",
        "\n",
        "    #print(entry)\n",
        "    if not entry_na:\n",
        "      entry_link_list.append(entry.get_attribute(\"href\"))\n",
        "\n",
        "  #first_row_name=driver.find_element(By.XPATH, first_row_xpath).get_attribute(\"title\")\n",
        "  if next_pg_button.is_enabled:\n",
        "    print(\"page %d downloaded\" % page_idx)\n",
        "    next_pg_button.click()\n",
        "    WebDriverWait(driver, 10).until(got_next_pg)\n",
        "  else:\n",
        "    print(\"last page %d downloaded\" % page_idx)\n",
        "\n",
        "\n",
        "#entry_xpath='/html/body/app-root/app-wrapper/div/div[2]/app-global-search-result-overview/div/div[2]/table/tbody/tr[1]/td[1]/a'\n",
        "#entry = driver.find_element(By.XPATH, entry_xpath)\n",
        "#print(entry.get_attribute(\"title\"))\n"
      ],
      "metadata": {
        "id": "l1xyKw3BtL2e",
        "colab": {
          "base_uri": "https://localhost:8080/"
        },
        "outputId": "23b01094-05e0-41a1-c92a-492f79f34087"
      },
      "execution_count": 4,
      "outputs": [
        {
          "output_type": "stream",
          "name": "stdout",
          "text": [
            "page 0 downloaded\n",
            "page 1 downloaded\n",
            "page 2 downloaded\n"
          ]
        }
      ]
    },
    {
      "cell_type": "code",
      "source": [
        "for enty_link_iter in entry_link_list:\n",
        "  #print(enty_link_iter)\n",
        "  driver.get(enty_link_iter)\n",
        "  anleihe_name_xpath = \"/html/body/app-root/app-wrapper/div/div[2]/app-bond/div[1]/div/app-widget-datasheet-header/div/div/div/div/div[1]/div/h1\"\n",
        "  ablauf_date_xpath = \"/html/body/app-root/app-wrapper/div/div[2]/app-bond/div[2]/div[5]/div[1]/app-widget-master-data-bond/div/div/table/tbody/tr[7]\"\n",
        "  price_xpath = \"/html/body/app-root/app-wrapper/div/div[2]/app-bond/div[2]/div[2]/div[2]/div/div[1]/app-widget-price-box/div/div/table/tbody/tr[1]/td[2]\"\n",
        "  WebDriverWait(driver, 10).until(EC.visibility_of_element_located((By.XPATH, ablauf_date_xpath)))\n",
        "  WebDriverWait(driver, 10).until(EC.visibility_of_element_located((By.XPATH, price_xpath)))\n",
        "\n",
        "  anleihe_name = driver.find_element(By.XPATH, anleihe_name_xpath)\n",
        "  #print(anleihe_name.text)\n",
        "  anleihe_name_tok_lst=re.search(r'Frankreich, Republik (.*)%.(\\d+)/(\\d+)', anleihe_name.text)\n",
        "  #print(anleihe_name_tok_lst.groups())\n",
        "  last_year=anleihe_name_tok_lst.groups()[2]\n",
        "  #print(last_year)\n",
        "\n",
        "  curs_tab = driver.find_element(By.TAG_NAME, \"app-widget-price-box\")\n",
        "  last_price = curs_tab.find_element(By.XPATH, \"div/div/table/tbody/tr[1]/td[2]\")\n",
        "  #print(last_price.text)\n",
        "  if last_price.text=='-':\n",
        "    last_price = float(100)\n",
        "    last_price_na = True\n",
        "  else:\n",
        "    last_price_na = False\n",
        "    last_price = float(last_price.text.replace(\",\",\".\"))\n",
        "\n",
        "  interest_tab = driver.find_element(By.TAG_NAME, \"app-widget-interest-rate\")\n",
        "  kupon = interest_tab.find_element(By.XPATH, \"div/div/table/tbody/tr[1]/td[2]\")\n",
        "  #print(kupon.text)\n",
        "  if kupon.text:\n",
        "    interest_rate=float(kupon.text.replace(\"%\", \"\").replace(\",\", \".\"))\n",
        "  else:\n",
        "    interest_rate=float(0)\n",
        "\n",
        "  #print(interest_rate)\n",
        "\n",
        "  master_data_tab = driver.find_element(By.TAG_NAME, \"app-widget-master-data-bond\")\n",
        "  emission_date_str = master_data_tab.find_element(By.XPATH, \"div/div/table/tbody/tr[7]/td[2]\").text\n",
        "  emission_date_lst = re.findall(r'\\d+', emission_date_str)\n",
        "  if emission_date_lst:\n",
        "    emission_date_na = False\n",
        "    emission_date = datetime.date(int(emission_date_lst[2]), int(emission_date_lst[1]), int(emission_date_lst[0]))\n",
        "  else:\n",
        "    emission_date_na = True\n",
        "  current_date = datetime.date.today()\n",
        "  expiry_date = emission_date.replace(year = 2000+int(last_year))\n",
        "  duration=(expiry_date-current_date).days\n",
        "  #print(expiry_date)\n",
        "  #print(duration)\n",
        "\n",
        "  #rendite_tab = driver.find_element(By.TAG_NAME, \"app-widget-key-figures\")\n",
        "  #try:\n",
        "  #  rendite = rendite_tab.find_element(By.XPATH, \"div/div/table/tbody/tr[1]/td[2]\")\n",
        "  #  rendite_txt=rendite.text\n",
        "  #except NoSuchElementException:\n",
        "  #  rendite_txt=\"N/A\"\n",
        "\n",
        "  if last_price_na or emission_date_na:\n",
        "    print(\"%-40sprice: ------\\trendite:    N/A\" % (anleihe_name.text))\n",
        "  else:\n",
        "    rendite_interest = interest_rate/(last_price/100)\n",
        "    #print(rendite_interest)\n",
        "    rendite_capital = (100-last_price)/(duration/365)\n",
        "    #print(rendite_capital)\n",
        "    rendite = rendite_interest + rendite_capital\n",
        "    print(\"%-40sprice: %6.2f\\trendite: %5.2f%%\" % (anleihe_name.text, last_price, rendite))\n"
      ],
      "metadata": {
        "id": "kTujORdgsvUL",
        "colab": {
          "base_uri": "https://localhost:8080/"
        },
        "outputId": "52abb567-6f5d-4ef4-a95f-e8be96b3691f"
      },
      "execution_count": 5,
      "outputs": [
        {
          "output_type": "stream",
          "name": "stdout",
          "text": [
            "Frankreich, Republik 0,5% 20/72         price:  36.00\trendite:  2.70%\n",
            "Frankreich, Republik 1,75% 13/24        price:  97.99\trendite:  3.32%\n",
            "Frankreich, Republik 4,25% 06/23        price: 100.09\trendite:  3.82%\n",
            "Frankreich, Republik 1,25% 17/34        price:  82.60\trendite:  3.12%\n",
            "Frankreich, Republik 2,25% 13/24        price:  99.01\trendite:  3.51%\n",
            "Frankreich, Republik 1,25% 15/36        price:  79.01\trendite:  3.22%\n",
            "Frankreich, Republik 0,75% 19/52        price:  51.42\trendite:  3.14%\n",
            "Frankreich, Republik 0,000% 20/24       price:  98.06\trendite:  3.46%\n",
            "Frankreich, Republik 4% 04/55           price: 109.25\trendite:  3.37%\n",
            "Frankreich, Republik 2,5% 13/30         price: ------\trendite:    N/A\n",
            "Frankreich, Republik 3,25% 12/45        price:  96.80\trendite:  3.50%\n",
            "Frankreich, Republik 0,000% 18/29       price:  83.54\trendite:  2.61%\n",
            "Frankreich, Republik 0,000% 21/25       price:  95.14\trendite:  3.11%\n",
            "Frankreich, Republik 0,114% 20/26       price:  98.88\trendite:  0.55%\n",
            "Frankreich, Republik 2% 17/48           price:  75.13\trendite:  3.66%\n",
            "Frankreich, Republik 0,000% 19/30       price:  80.96\trendite:  2.60%\n",
            "Frankreich, Republik 4% 09/60           price: 110.05\trendite:  3.36%\n",
            "Frankreich, Republik 4,5% 09/41         price: 114.52\trendite:  3.11%\n",
            "Frankreich, Republik 6% 93/25           price: 106.01\trendite:  2.96%\n",
            "Frankreich, Republik 0,5% 14/25         price:  95.35\trendite:  3.10%\n",
            "Frankreich, Republik 0,115% 21/53       price:  84.32\trendite:  0.66%\n",
            "Frankreich, Republik 0,000% 22/34       price:  99.85\trendite:  0.01%\n",
            "Frankreich, Republik 1,75% 15/66        price:  62.98\trendite:  3.64%\n",
            "Frankreich, Republik 1,5% 18/50         price:  66.19\trendite:  3.53%\n",
            "Frankreich, Republik 0,000% 18/24       price:  97.83\trendite:  3.40%\n",
            "Frankreich, Republik 0,5% 15/26         price:  93.37\trendite:  2.90%\n",
            "Frankreich, Republik 0,000% 22/32       price:  76.98\trendite:  2.73%\n",
            "Frankreich, Republik 2,75% 11/27        price:  99.32\trendite:  2.93%\n",
            "Frankreich, Republik 4,774% 02/32       price: 123.57\trendite:  1.24%\n",
            "Frankreich, Republik 0,117% 20/31       price:  97.75\trendite:  0.40%\n",
            "Frankreich, Republik 1,25% 21/38        price:  75.58\trendite:  3.30%\n",
            "Frankreich, Republik 0,000% 20/31       price: ------\trendite:    N/A\n",
            "Frankreich, Republik 0,122% 16/47       price:  87.27\trendite:  0.67%\n",
            "Frankreich, Republik 1,5% 15/31         price:  90.13\trendite:  2.93%\n",
            "Frankreich, Republik 2,527% 06/40       price: 117.79\trendite:  1.10%\n",
            "Frankreich, Republik 0,121% 17/36       price: ------\trendite:    N/A\n",
            "Frankreich, Republik 0,311% 12/24       price:  99.64\trendite:  0.69%\n",
            "Frankreich, Republik 0,75% 21/53        price:  49.62\trendite:  3.20%\n",
            "Frankreich, Republik 0,114% 14/25       price:  98.77\trendite:  0.90%\n",
            "Frankreich, Republik 0,000% 19/25       price:  94.97\trendite:  3.07%\n",
            "Frankreich, Republik 0,25% 15/26        price:  91.53\trendite:  2.83%\n",
            "Frankreich, Republik 2,5% 22/26         price:  98.45\trendite:  3.03%\n",
            "Frankreich, Republik 0,116% 19/29       price:  98.38\trendite:  0.41%\n",
            "Frankreich, Republik 5,75% 00/32        price: 121.35\trendite:  2.43%\n",
            "Frankreich, Republik 3% 22/54           price:  90.11\trendite:  3.65%\n",
            "Frankreich, Republik 0,75% 22/28        price:  90.86\trendite:  2.83%\n",
            "Frankreich, Republik 0,5% 20/40         price:  63.31\trendite:  2.97%\n",
            "Frankreich, Republik 0,000% 20/26       price:  92.60\trendite:  2.89%\n",
            "Frankreich, Republik 0,75% 17/28        price:  90.44\trendite:  2.82%\n",
            "Frankreich, Republik 0,86% 13/30        price: 102.57\trendite:  0.47%\n",
            "Frankreich, Republik 2,424% 10/27       price: 105.95\trendite:  0.79%\n",
            "Frankreich, Republik 0,113% 16/28       price:  98.42\trendite:  0.46%\n",
            "Frankreich, Republik 0,115% 21/38       price:  91.02\trendite:  0.73%\n",
            "Frankreich, Republik 3,5% 10/26         price: 101.12\trendite:  3.05%\n",
            "Frankreich, Republik 1,75% 16/39        price:  80.25\trendite:  3.42%\n",
            "Frankreich, Republik 1% 16/27           price:  93.09\trendite:  2.89%\n",
            "Frankreich, Republik 2% 21/32           price:  91.35\trendite:  3.12%\n",
            "Frankreich, Republik 0,5% 18/29         price:  87.39\trendite:  2.74%\n",
            "Frankreich, Republik 0,5% 20/44         price: ------\trendite:    N/A\n",
            "Frankreich, Republik 0,75% 17/28        price:  89.60\trendite:  2.79%\n",
            "Frankreich, Republik 1,25% 21/38        price:  75.58\trendite:  3.30%\n",
            "Frankreich, Republik 4,963% 99/29       price: 117.88\trendite:  1.22%\n",
            "Frankreich, Republik 5,5% 97/29         price: 113.36\trendite:  2.52%\n",
            "Frankreich, Republik 4% 05/38           price: 107.87\trendite:  3.19%\n",
            "Frankreich, Republik 0,000% 21/27       price:  90.13\trendite:  2.77%\n",
            "Frankreich, Republik 0,000% 23/39       price:  97.30\trendite:  0.17%\n",
            "Frankreich, Republik 0,109% 20/36       price:  93.56\trendite:  0.63%\n",
            "Frankreich, Republik 2,5% 22/43         price:  86.46\trendite:  3.57%\n",
            "Frankreich, Republik 2,75% 23/29        price:  99.02\trendite:  2.95%\n",
            "Frankreich, Republik 0,109% 21/32       price:  97.21\trendite:  0.44%\n",
            "Frankreich, Republik 4,75% 03/35        price: 114.67\trendite:  2.89%\n",
            "Frankreich, Republik 3% 22/33           price:  99.17\trendite:  3.11%\n"
          ]
        }
      ]
    },
    {
      "cell_type": "code",
      "source": [
        "#driver.get(\"https://www.boerse-frankfurt.de/anleihe/fr0014001nn8-frankreich-republik-0-5-20-72\")\n",
        "#driver.get(\"https://www.boerse-frankfurt.de/anleihe/fr0014001n46-frankreich-republik-0-000-20-24\")\n",
        "driver.get(\"https://www.boerse-frankfurt.de/anleihe/fr0013257524-frankreich-republik-2-17-48\")\n",
        "anleihe_name_xpath = \"/html/body/app-root/app-wrapper/div/div[2]/app-bond/div[1]/div/app-widget-datasheet-header/div/div/div/div/div[1]/div/h1\"\n",
        "ablauf_date_xpath = \"/html/body/app-root/app-wrapper/div/div[2]/app-bond/div[2]/div[5]/div[1]/app-widget-master-data-bond/div/div/table/tbody/tr[7]\"\n",
        "price_xpath = \"/html/body/app-root/app-wrapper/div/div[2]/app-bond/div[2]/div[2]/div[2]/div/div[1]/app-widget-price-box/div/div/table/tbody/tr[1]/td[2]\"\n",
        "WebDriverWait(driver, 10).until(EC.visibility_of_element_located((By.XPATH, ablauf_date_xpath)))\n",
        "WebDriverWait(driver, 10).until(EC.visibility_of_element_located((By.XPATH, price_xpath)))\n",
        "\n",
        "anleihe_name = driver.find_element(By.XPATH, anleihe_name_xpath)\n",
        "print(anleihe_name.text)\n",
        "anleihe_name_tok_lst=re.search(r'Frankreich, Republik (.*)%.(\\d+)/(\\d+)', anleihe_name.text)\n",
        "print(anleihe_name_tok_lst.groups())\n",
        "last_year=anleihe_name_tok_lst.groups()[2]\n",
        "#print(last_year)\n",
        "\n",
        "curs_tab = driver.find_element(By.TAG_NAME, \"app-widget-price-box\")\n",
        "last_price = curs_tab.find_element(By.XPATH, \"div/div/table/tbody/tr[1]/td[2]\")\n",
        "last_price = float(last_price.text.replace(\",\",\".\"))\n",
        "print(last_price)\n",
        "\n",
        "interest_tab = driver.find_element(By.TAG_NAME, \"app-widget-interest-rate\")\n",
        "kupon = interest_tab.find_element(By.XPATH, \"div/div/table/tbody/tr[1]/td[2]\")\n",
        "#print(kupon.text)\n",
        "if kupon.text:\n",
        "  interest_rate=float(kupon.text.replace(\"%\", \"\").replace(\",\", \".\"))\n",
        "else:\n",
        "  interest_rate=float(0)\n",
        "#print(interest_rate)\n",
        "\n",
        "master_data_tab = driver.find_element(By.TAG_NAME, \"app-widget-master-data-bond\")\n",
        "emission_date_str = master_data_tab.find_element(By.XPATH, \"div/div/table/tbody/tr[7]/td[2]\").text\n",
        "emission_date_lst = re.findall(r'\\d+', emission_date_str)\n",
        "emission_date = datetime.date(int(emission_date_lst[2]), int(emission_date_lst[1]), int(emission_date_lst[0]))\n",
        "current_date = datetime.date.today()\n",
        "expiry_date = emission_date.replace(year = 2000+int(last_year))\n",
        "duration=(expiry_date-current_date).days\n",
        "print(expiry_date)\n",
        "print(duration)\n",
        "\n",
        "#rendite_tab = driver.find_element(By.TAG_NAME, \"app-widget-key-figures\")\n",
        "#try:\n",
        "#  rendite = rendite_tab.find_element(By.XPATH, \"div/div/table/tbody/tr[1]/td[2]\")\n",
        "#  rendite_txt=rendite.text\n",
        "#except NoSuchElementException:\n",
        "#  rendite_txt=\"N/A\"\n",
        "\n",
        "rendite_interest = interest_rate/(last_price/100)\n",
        "print(rendite_interest)\n",
        "rendite_capital = (100-last_price)/(duration/365)\n",
        "print(rendite_capital)\n",
        "rendite = rendite_interest + rendite_capital\n",
        "\n",
        "print(\"%-40sprice: %0.2f\\trendite: %0.2f%%\" % (anleihe_name.text, last_price, rendite))\n"
      ],
      "metadata": {
        "colab": {
          "base_uri": "https://localhost:8080/"
        },
        "id": "lLlQ99UqBxHu",
        "outputId": "e0d206be-6ec0-4b6d-b489-b6f9f3aa582e"
      },
      "execution_count": 6,
      "outputs": [
        {
          "output_type": "stream",
          "name": "stdout",
          "text": [
            "Frankreich, Republik 2% 17/48\n",
            "('2', '17', '48')\n",
            "75.13\n",
            "2048-05-25\n",
            "9060\n",
            "2.662052442433116\n",
            "1.0019370860927153\n",
            "Frankreich, Republik 2% 17/48           price: 75.13\trendite: 3.66%\n"
          ]
        }
      ]
    },
    {
      "cell_type": "code",
      "source": [
        "driver.quit()"
      ],
      "metadata": {
        "id": "lbNt20xKS8RJ"
      },
      "execution_count": 7,
      "outputs": []
    }
  ]
}